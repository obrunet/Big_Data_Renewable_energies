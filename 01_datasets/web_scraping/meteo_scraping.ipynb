{
 "cells": [
  {
   "cell_type": "code",
   "execution_count": 39,
   "metadata": {},
   "outputs": [
    {
     "name": "stdout",
     "output_type": "stream",
     "text": [
      "Fetching https://www.infoclimat.fr/observations-meteo/archives/2/janvier/2016/paris-montsouris/07156.html from the internet\n",
      "Request success!\n",
      "Writing cached scraped_page.pickle\n"
     ]
    }
   ],
   "source": [
    "import re, pickle, os, csv, requests\n",
    "from bs4 import BeautifulSoup\n",
    "from requests.exceptions import HTTPError\n",
    "\n",
    "\n",
    "PAGE_URL = \"https://www.infoclimat.fr/observations-meteo/archives/2/janvier/2016/paris-montsouris/07156.html\"\n",
    "file_name = 'scraped_page.pickle'\n",
    "\n",
    "\n",
    "# if the page has already been downloaded & saved\n",
    "if os.path.exists(file_name):\n",
    "    with open(file_name, 'rb') as f:\n",
    "        print(f\"Loading cached {file_name}\")\n",
    "        response = pickle.load(f)\n",
    "\n",
    "# otherwise fetch it for the first time\n",
    "else:\n",
    "    print(f\"Fetching {PAGE_URL} from the internet\")\n",
    "    try:\n",
    "        response = requests.get(PAGE_URL)\n",
    "        # If the response was successful, no Exception will be raised\n",
    "        response.raise_for_status()\n",
    "    except HTTPError as http_err:\n",
    "        print(f'HTTP error occurred: {http_err}')\n",
    "    except Exception as err:\n",
    "        print(f'Other error occurred: {err}')\n",
    "    else:\n",
    "        print('Request success!')\n",
    "        with open(file_name, 'wb') as f:\n",
    "            print(f\"Writing cached {file_name}\")\n",
    "            pickle.dump(response, f)\n",
    "\n",
    "\n",
    "\n",
    "source = response.text\n",
    "soup = BeautifulSoup(source, 'html5lib')"
   ]
  },
  {
   "cell_type": "code",
   "execution_count": null,
   "metadata": {},
   "outputs": [],
   "source": [
    "# classes range from class_='cdata-hour23' for 00h to class_='cdata-hour00' for 1h"
   ]
  },
  {
   "cell_type": "code",
   "execution_count": 91,
   "metadata": {},
   "outputs": [],
   "source": [
    "hr_range = [f\"{i:02d}\" for i in list(range(23, -1, -1)) ]"
   ]
  },
  {
   "cell_type": "code",
   "execution_count": 124,
   "metadata": {},
   "outputs": [
    {
     "name": "stdout",
     "output_type": "stream",
     "text": [
      "00h;7.8;0;76;15\n",
      "23h;8.4;0;73;13\n",
      "22h;9.0;0;72;15\n",
      "21h;9.1;0;77;17\n",
      "20h;8.8;0.2;82;15\n",
      "19h;8.7;0.6;85;17\n",
      "18h;9.1;0.6;82;17\n",
      "17h;10.1;0;73;19\n",
      "16h;10.4;NaN;73;19\n",
      "15h;10.8;0;70;22\n",
      "14h;10.9;0;70;19\n",
      "13h;10.8;0;71;22\n",
      "12h;10.5;0;73;22\n",
      "11h;10.1;0;78;19\n",
      "10h;9.5;0;82;13\n",
      "09h;9.0;0;88;13\n",
      "08h;8.7;0;91;11\n",
      "07h;8.6;0;90;9\n",
      "06h;8.6;0;90;13\n",
      "05h;8.4;0;89;15\n",
      "04h;8.1;0.2;89;13\n",
      "03h;7.9;0;88;13\n",
      "02h;7.3;0;88;11\n",
      "01h;7.4;0.2;88;11\n",
      "\n"
     ]
    }
   ],
   "source": [
    "page_data = \"\"\n",
    "for h in hr_range:\n",
    "    class_ = 'cdata-hour' + h\n",
    "    #row = hour = temp = rain = humi = wind = 'NaN'\n",
    "    try:\n",
    "        row = soup.find('tr', class_= class_)\n",
    "    except:\n",
    "        row = 'NaN'\n",
    "    try:\n",
    "        hour = row.find('span', class_=\"tipsy-trigger\").text\n",
    "    except:\n",
    "        hour = 'NaN'\n",
    "    try:\n",
    "        temp = row.find('span', text=\"°C\", attrs={'class' : 'tab-units-v'}).previous_sibling.previous_sibling.text\n",
    "    except:\n",
    "        temp = 'NaN'\n",
    "    try:\n",
    "        rain = row.find('span', text=\"mm/1h\", attrs={'class' : 'tab-units-v'}).find_parent('td').contents[0].replace(' ', '')\n",
    "    except:\n",
    "        rain = 'NaN'\n",
    "    try:\n",
    "        humi = row.find('span', text=\"%\", attrs={'class' : 'tab-units-v'}).previous_sibling.text\n",
    "    except:\n",
    "        humi = 'NaN'\n",
    "    try:\n",
    "        wind = row.find('span', text=\"km/h\", attrs={'class' : 'tab-units-v'}).previous_sibling.previous_sibling.text\n",
    "    except:\n",
    "        wind = 'NaN'\n",
    "    result = ';'.join([hour, temp, rain, humi, wind]) + '\\n'\n",
    "    page_data += result\n",
    "\n",
    "print(page_data)"
   ]
  },
  {
   "cell_type": "code",
   "execution_count": 113,
   "metadata": {},
   "outputs": [],
   "source": [
    "h15 = soup.find('tr', class_='cdata-hour15')"
   ]
  },
  {
   "cell_type": "code",
   "execution_count": 114,
   "metadata": {},
   "outputs": [
    {
     "data": {
      "text/plain": [
       "'16h'"
      ]
     },
     "execution_count": 114,
     "metadata": {},
     "output_type": "execute_result"
    }
   ],
   "source": [
    "h15.find('span', class_=\"tipsy-trigger\").text"
   ]
  },
  {
   "cell_type": "code",
   "execution_count": 115,
   "metadata": {},
   "outputs": [
    {
     "data": {
      "text/plain": [
       "'16h'"
      ]
     },
     "execution_count": 115,
     "metadata": {},
     "output_type": "execute_result"
    }
   ],
   "source": [
    "h15.find('span', class_=\"tipsy-trigger\").text\n"
   ]
  },
  {
   "cell_type": "code",
   "execution_count": 116,
   "metadata": {},
   "outputs": [
    {
     "data": {
      "text/plain": [
       "'10.4'"
      ]
     },
     "execution_count": 116,
     "metadata": {},
     "output_type": "execute_result"
    }
   ],
   "source": [
    "h15.find('span', text=\"°C\", attrs={'class' : 'tab-units-v'}).previous_sibling.previous_sibling.text\n"
   ]
  },
  {
   "cell_type": "code",
   "execution_count": 117,
   "metadata": {},
   "outputs": [
    {
     "ename": "AttributeError",
     "evalue": "'NoneType' object has no attribute 'find_parent'",
     "output_type": "error",
     "traceback": [
      "\u001b[0;31m---------------------------------------------------------------------------\u001b[0m",
      "\u001b[0;31mAttributeError\u001b[0m                            Traceback (most recent call last)",
      "\u001b[0;32m<ipython-input-117-07bf86e98d08>\u001b[0m in \u001b[0;36m<module>\u001b[0;34m\u001b[0m\n\u001b[0;32m----> 1\u001b[0;31m \u001b[0mh15\u001b[0m\u001b[0;34m.\u001b[0m\u001b[0mfind\u001b[0m\u001b[0;34m(\u001b[0m\u001b[0;34m'span'\u001b[0m\u001b[0;34m,\u001b[0m \u001b[0mtext\u001b[0m\u001b[0;34m=\u001b[0m\u001b[0;34m\"mm/1h\"\u001b[0m\u001b[0;34m,\u001b[0m \u001b[0mattrs\u001b[0m\u001b[0;34m=\u001b[0m\u001b[0;34m{\u001b[0m\u001b[0;34m'class'\u001b[0m \u001b[0;34m:\u001b[0m \u001b[0;34m'tab-units-v'\u001b[0m\u001b[0;34m}\u001b[0m\u001b[0;34m)\u001b[0m\u001b[0;34m.\u001b[0m\u001b[0mfind_parent\u001b[0m\u001b[0;34m(\u001b[0m\u001b[0;34m'td'\u001b[0m\u001b[0;34m)\u001b[0m\u001b[0;34m.\u001b[0m\u001b[0mcontents\u001b[0m\u001b[0;34m[\u001b[0m\u001b[0;36m0\u001b[0m\u001b[0;34m]\u001b[0m\u001b[0;34m.\u001b[0m\u001b[0mreplace\u001b[0m\u001b[0;34m(\u001b[0m\u001b[0;34m' '\u001b[0m\u001b[0;34m,\u001b[0m \u001b[0;34m''\u001b[0m\u001b[0;34m)\u001b[0m\u001b[0;34m\u001b[0m\u001b[0;34m\u001b[0m\u001b[0m\n\u001b[0m",
      "\u001b[0;31mAttributeError\u001b[0m: 'NoneType' object has no attribute 'find_parent'"
     ]
    }
   ],
   "source": [
    "h15.find('span', text=\"mm/1h\", attrs={'class' : 'tab-units-v'}).find_parent('td').contents[0].replace(' ', '')\n"
   ]
  },
  {
   "cell_type": "code",
   "execution_count": 103,
   "metadata": {},
   "outputs": [
    {
     "data": {
      "text/plain": [
       "'73'"
      ]
     },
     "execution_count": 103,
     "metadata": {},
     "output_type": "execute_result"
    }
   ],
   "source": [
    "h15.find('span', text=\"%\", attrs={'class' : 'tab-units-v'}).previous_sibling.text\n"
   ]
  },
  {
   "cell_type": "code",
   "execution_count": 111,
   "metadata": {},
   "outputs": [
    {
     "data": {
      "text/plain": [
       "'19'"
      ]
     },
     "execution_count": 111,
     "metadata": {},
     "output_type": "execute_result"
    }
   ],
   "source": [
    "h15.find('span', text=\"km/h\", attrs={'class' : 'tab-units-v'}).previous_sibling.previous_sibling.texth15"
   ]
  },
  {
   "cell_type": "markdown",
   "metadata": {},
   "source": [
    "---"
   ]
  },
  {
   "cell_type": "markdown",
   "metadata": {},
   "source": [
    "Working examples"
   ]
  },
  {
   "cell_type": "code",
   "execution_count": 43,
   "metadata": {},
   "outputs": [],
   "source": [
    "#print(soup.prettify())"
   ]
  },
  {
   "cell_type": "code",
   "execution_count": 44,
   "metadata": {},
   "outputs": [],
   "source": [
    "h23 = soup.find('tr', class_='cdata-hour23')\n",
    "#print(h23.prettify())"
   ]
  },
  {
   "cell_type": "markdown",
   "metadata": {},
   "source": [
    "Working HOUR"
   ]
  },
  {
   "cell_type": "code",
   "execution_count": 46,
   "metadata": {},
   "outputs": [
    {
     "data": {
      "text/plain": [
       "'00h'"
      ]
     },
     "execution_count": 46,
     "metadata": {},
     "output_type": "execute_result"
    }
   ],
   "source": [
    "h23.find('span', class_=\"tipsy-trigger\").text"
   ]
  },
  {
   "cell_type": "code",
   "execution_count": 73,
   "metadata": {},
   "outputs": [],
   "source": [
    "#print(h23.prettify())"
   ]
  },
  {
   "cell_type": "code",
   "execution_count": 56,
   "metadata": {},
   "outputs": [
    {
     "data": {
      "text/plain": [
       "<span class=\"tab-units-v\">°C</span>"
      ]
     },
     "execution_count": 56,
     "metadata": {},
     "output_type": "execute_result"
    }
   ],
   "source": [
    "h23.find('span', text=\"°C\", attrs={'class' : 'tab-units-v'})"
   ]
  },
  {
   "cell_type": "markdown",
   "metadata": {},
   "source": [
    "Working TEMPERATURE"
   ]
  },
  {
   "cell_type": "code",
   "execution_count": 59,
   "metadata": {},
   "outputs": [
    {
     "data": {
      "text/plain": [
       "'7.8'"
      ]
     },
     "execution_count": 59,
     "metadata": {},
     "output_type": "execute_result"
    }
   ],
   "source": [
    "h23.find('span', text=\"°C\", attrs={'class' : 'tab-units-v'}).previous_sibling.previous_sibling.text"
   ]
  },
  {
   "cell_type": "code",
   "execution_count": 67,
   "metadata": {},
   "outputs": [
    {
     "data": {
      "text/plain": [
       "<td>0 <span class=\"tab-units-v\">mm/1h</span><span class=\"color-heatmap\" style=\"background-color:rgb(255,255,255)\"></span></td>"
      ]
     },
     "execution_count": 67,
     "metadata": {},
     "output_type": "execute_result"
    }
   ],
   "source": [
    "h23.find('span', text=\"mm/1h\", attrs={'class' : 'tab-units-v'}).find_parent('td')"
   ]
  },
  {
   "cell_type": "markdown",
   "metadata": {},
   "source": [
    "Working PLUIE"
   ]
  },
  {
   "cell_type": "code",
   "execution_count": 71,
   "metadata": {},
   "outputs": [
    {
     "data": {
      "text/plain": [
       "'0 '"
      ]
     },
     "execution_count": 71,
     "metadata": {},
     "output_type": "execute_result"
    }
   ],
   "source": [
    "h23.find('span', text=\"mm/1h\", attrs={'class' : 'tab-units-v'}).find_parent('td').contents[0]"
   ]
  },
  {
   "cell_type": "code",
   "execution_count": 64,
   "metadata": {},
   "outputs": [],
   "source": [
    "h18 = soup.find('tr', class_='cdata-hour18')"
   ]
  },
  {
   "cell_type": "code",
   "execution_count": 72,
   "metadata": {},
   "outputs": [
    {
     "data": {
      "text/plain": [
       "'0.6 '"
      ]
     },
     "execution_count": 72,
     "metadata": {},
     "output_type": "execute_result"
    }
   ],
   "source": [
    "h18.find('span', text=\"mm/1h\", attrs={'class' : 'tab-units-v'}).find_parent('td').contents[0]"
   ]
  },
  {
   "cell_type": "markdown",
   "metadata": {},
   "source": [
    "Working HUMIDITE"
   ]
  },
  {
   "cell_type": "code",
   "execution_count": 76,
   "metadata": {},
   "outputs": [
    {
     "data": {
      "text/plain": [
       "'76'"
      ]
     },
     "execution_count": 76,
     "metadata": {},
     "output_type": "execute_result"
    }
   ],
   "source": [
    "h23.find('span', text=\"%\", attrs={'class' : 'tab-units-v'}).previous_sibling.text"
   ]
  },
  {
   "cell_type": "markdown",
   "metadata": {},
   "source": [
    "Working VENT MOYEN"
   ]
  },
  {
   "cell_type": "code",
   "execution_count": 80,
   "metadata": {},
   "outputs": [
    {
     "data": {
      "text/plain": [
       "'15'"
      ]
     },
     "execution_count": 80,
     "metadata": {},
     "output_type": "execute_result"
    }
   ],
   "source": [
    "h23.find('span', text=\"km/h\", attrs={'class' : 'tab-units-v'}).previous_sibling.previous_sibling.text"
   ]
  },
  {
   "cell_type": "markdown",
   "metadata": {},
   "source": [
    "---"
   ]
  },
  {
   "cell_type": "markdown",
   "metadata": {},
   "source": [
    "several tries"
   ]
  },
  {
   "cell_type": "code",
   "execution_count": null,
   "metadata": {},
   "outputs": [],
   "source": [
    "soup.findAll('td', text=pattern, attrs={'class' : 'pos'})"
   ]
  },
  {
   "cell_type": "code",
   "execution_count": 31,
   "metadata": {},
   "outputs": [],
   "source": [
    "soup.find(\"div\", {\"id\": \"articlebody\"})"
   ]
  },
  {
   "cell_type": "code",
   "execution_count": 32,
   "metadata": {},
   "outputs": [],
   "source": [
    "soup.find('div', class_='observation-table')"
   ]
  },
  {
   "cell_type": "code",
   "execution_count": 33,
   "metadata": {},
   "outputs": [],
   "source": [
    "#history-observation-table\n",
    "soup.find(\"div\", {\"id\": \"history-observation-table\"})"
   ]
  },
  {
   "cell_type": "code",
   "execution_count": 34,
   "metadata": {},
   "outputs": [],
   "source": [
    "table = soup.find('table', id=\"history-observation-table\")"
   ]
  },
  {
   "cell_type": "code",
   "execution_count": 38,
   "metadata": {},
   "outputs": [
    {
     "data": {
      "text/plain": [
       "[]"
      ]
     },
     "execution_count": 38,
     "metadata": {},
     "output_type": "execute_result"
    }
   ],
   "source": [
    "# bs4 supports most CSS selectors with the .select() method, therefore we can use an id selector :\n",
    "soup.select('#history-observation-table')"
   ]
  },
  {
   "cell_type": "code",
   "execution_count": 126,
   "metadata": {},
   "outputs": [
    {
     "data": {
      "text/plain": [
       "[1,\n",
       " 2,\n",
       " 3,\n",
       " 4,\n",
       " 5,\n",
       " 6,\n",
       " 7,\n",
       " 8,\n",
       " 9,\n",
       " 10,\n",
       " 11,\n",
       " 12,\n",
       " 13,\n",
       " 14,\n",
       " 15,\n",
       " 16,\n",
       " 17,\n",
       " 18,\n",
       " 19,\n",
       " 20,\n",
       " 21,\n",
       " 22,\n",
       " 23,\n",
       " 24,\n",
       " 25,\n",
       " 26,\n",
       " 27,\n",
       " 28,\n",
       " 29,\n",
       " 30,\n",
       " 31]"
      ]
     },
     "execution_count": 126,
     "metadata": {},
     "output_type": "execute_result"
    }
   ],
   "source": [
    "list(range(1, 32))"
   ]
  },
  {
   "cell_type": "code",
   "execution_count": null,
   "metadata": {},
   "outputs": [],
   "source": []
  },
  {
   "cell_type": "code",
   "execution_count": null,
   "metadata": {},
   "outputs": [],
   "source": []
  }
 ],
 "metadata": {
  "kernelspec": {
   "display_name": "Python 3",
   "language": "python",
   "name": "python3"
  },
  "language_info": {
   "codemirror_mode": {
    "name": "ipython",
    "version": 3
   },
   "file_extension": ".py",
   "mimetype": "text/x-python",
   "name": "python",
   "nbconvert_exporter": "python",
   "pygments_lexer": "ipython3",
   "version": "3.7.3"
  },
  "toc": {
   "base_numbering": 1,
   "nav_menu": {},
   "number_sections": true,
   "sideBar": true,
   "skip_h1_title": false,
   "title_cell": "Table of Contents",
   "title_sidebar": "Contents",
   "toc_cell": false,
   "toc_position": {},
   "toc_section_display": true,
   "toc_window_display": false
  }
 },
 "nbformat": 4,
 "nbformat_minor": 2
}
