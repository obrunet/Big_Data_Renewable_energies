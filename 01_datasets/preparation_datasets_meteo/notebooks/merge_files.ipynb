{
 "cells": [
  {
   "cell_type": "code",
   "execution_count": 58,
   "metadata": {},
   "outputs": [],
   "source": [
    "import pandas as pd\n",
    "from os import listdir\n",
    "from os.path import isfile, isdir, join"
   ]
  },
  {
   "cell_type": "code",
   "execution_count": 59,
   "metadata": {},
   "outputs": [],
   "source": [
    "folder_theme = {\"CC\": \"cloud_cover_\", \"QQ\": \"global_radiation_\", \"TX\": \"max_temp_\", \"FX\": \"wind_gust_\", \\\n",
    "                \"TG\": \"mean_temp_\", \"FG\": \"mean_wind_speed_\", \"SS\": \"sunshine_duration_\", \"DD\": \"wind_direction_\"}"
   ]
  },
  {
   "cell_type": "code",
   "execution_count": 60,
   "metadata": {},
   "outputs": [],
   "source": [
    "df= pd.DataFrame()"
   ]
  },
  {
   "cell_type": "code",
   "execution_count": 61,
   "metadata": {},
   "outputs": [],
   "source": [
    "current_path = \"test_datasets/Daily global radiation QQ \"\n",
    "folders = [f for f in listdir(current_path) if isdir(join(current_path, f))]"
   ]
  },
  {
   "cell_type": "code",
   "execution_count": 62,
   "metadata": {},
   "outputs": [],
   "source": [
    "only_files = [f for f in listdir(current_path) if isfile(join(current_path, f))]"
   ]
  },
  {
   "cell_type": "code",
   "execution_count": 64,
   "metadata": {},
   "outputs": [],
   "source": [
    "#for fn in only_files:\n",
    "    #print(\"mesure:\", fn[:2], \"- station_id:\", fn[8:-3])"
   ]
  },
  {
   "cell_type": "code",
   "execution_count": 70,
   "metadata": {},
   "outputs": [],
   "source": [
    "def clean_dataframe(df, col_name):\n",
    "    \"\"\"Clean the dataset, remove unneeded columns, NaNs, strange values...\"\"\"\n",
    "    # remove columns full of NaNs, corresponding to several spaces in the txt file\n",
    "    df = df.dropna(axis=1, how='all')\n",
    "    # rename them\n",
    "    df = df.rename(columns={2: \"date\", 3: col_name})\n",
    "    # remove comas\n",
    "    try:\n",
    "        df[col_name] = df[col_name].str.replace(\",\", \"\")\n",
    "    except:\n",
    "        pass\n",
    "    # drop lines with nan\n",
    "    df = df.dropna()\n",
    "    # convert type as int\n",
    "    df[col_name] = df[col_name].astype(int)\n",
    "    # keep interesting lines & cols\n",
    "    df = df[df[col_name] != -9999]\n",
    "    df = df[[\"date\", col_name]]\n",
    "    # convert into date\n",
    "    #df.date = df.date.apply(lambda s: s.split(',')[1])\n",
    "    df['date'] = pd.to_datetime(df['date'], format='%Y%m%d')\n",
    "    return df"
   ]
  },
  {
   "cell_type": "code",
   "execution_count": 71,
   "metadata": {},
   "outputs": [
    {
     "data": {
      "text/html": [
       "<div>\n",
       "<style scoped>\n",
       "    .dataframe tbody tr th:only-of-type {\n",
       "        vertical-align: middle;\n",
       "    }\n",
       "\n",
       "    .dataframe tbody tr th {\n",
       "        vertical-align: top;\n",
       "    }\n",
       "\n",
       "    .dataframe thead th {\n",
       "        text-align: right;\n",
       "    }\n",
       "</style>\n",
       "<table border=\"1\" class=\"dataframe\">\n",
       "  <thead>\n",
       "    <tr style=\"text-align: right;\">\n",
       "      <th></th>\n",
       "      <th>0</th>\n",
       "      <th>1</th>\n",
       "      <th>2</th>\n",
       "      <th>3</th>\n",
       "      <th>4</th>\n",
       "    </tr>\n",
       "  </thead>\n",
       "  <tbody>\n",
       "    <tr>\n",
       "      <td>0</td>\n",
       "      <td>34</td>\n",
       "      <td>90866</td>\n",
       "      <td>19780102</td>\n",
       "      <td>21</td>\n",
       "      <td>0</td>\n",
       "    </tr>\n",
       "    <tr>\n",
       "      <td>1</td>\n",
       "      <td>34</td>\n",
       "      <td>90866</td>\n",
       "      <td>19780103</td>\n",
       "      <td>34</td>\n",
       "      <td>0</td>\n",
       "    </tr>\n",
       "    <tr>\n",
       "      <td>2</td>\n",
       "      <td>34</td>\n",
       "      <td>90866</td>\n",
       "      <td>19780104</td>\n",
       "      <td>34</td>\n",
       "      <td>0</td>\n",
       "    </tr>\n",
       "    <tr>\n",
       "      <td>3</td>\n",
       "      <td>34</td>\n",
       "      <td>90866</td>\n",
       "      <td>19780105</td>\n",
       "      <td>80</td>\n",
       "      <td>0</td>\n",
       "    </tr>\n",
       "    <tr>\n",
       "      <td>4</td>\n",
       "      <td>34</td>\n",
       "      <td>90866</td>\n",
       "      <td>19780106</td>\n",
       "      <td>85</td>\n",
       "      <td>0</td>\n",
       "    </tr>\n",
       "  </tbody>\n",
       "</table>\n",
       "</div>"
      ],
      "text/plain": [
       "    0      1         2   3  4\n",
       "0  34  90866  19780102  21  0\n",
       "1  34  90866  19780103  34  0\n",
       "2  34  90866  19780104  34  0\n",
       "3  34  90866  19780105  80  0\n",
       "4  34  90866  19780106  85  0"
      ]
     },
     "execution_count": 71,
     "metadata": {},
     "output_type": "execute_result"
    }
   ],
   "source": [
    "df_temp = pd.read_csv(join(current_path, 'QQ_STAID000034.txt'), header=None, error_bad_lines=False)\n",
    "df_temp.head()"
   ]
  },
  {
   "cell_type": "code",
   "execution_count": 72,
   "metadata": {},
   "outputs": [
    {
     "data": {
      "text/html": [
       "<div>\n",
       "<style scoped>\n",
       "    .dataframe tbody tr th:only-of-type {\n",
       "        vertical-align: middle;\n",
       "    }\n",
       "\n",
       "    .dataframe tbody tr th {\n",
       "        vertical-align: top;\n",
       "    }\n",
       "\n",
       "    .dataframe thead th {\n",
       "        text-align: right;\n",
       "    }\n",
       "</style>\n",
       "<table border=\"1\" class=\"dataframe\">\n",
       "  <thead>\n",
       "    <tr style=\"text-align: right;\">\n",
       "      <th></th>\n",
       "      <th>date</th>\n",
       "      <th>123</th>\n",
       "    </tr>\n",
       "  </thead>\n",
       "  <tbody>\n",
       "    <tr>\n",
       "      <td>0</td>\n",
       "      <td>1978-01-02</td>\n",
       "      <td>21</td>\n",
       "    </tr>\n",
       "    <tr>\n",
       "      <td>1</td>\n",
       "      <td>1978-01-03</td>\n",
       "      <td>34</td>\n",
       "    </tr>\n",
       "    <tr>\n",
       "      <td>2</td>\n",
       "      <td>1978-01-04</td>\n",
       "      <td>34</td>\n",
       "    </tr>\n",
       "    <tr>\n",
       "      <td>3</td>\n",
       "      <td>1978-01-05</td>\n",
       "      <td>80</td>\n",
       "    </tr>\n",
       "    <tr>\n",
       "      <td>4</td>\n",
       "      <td>1978-01-06</td>\n",
       "      <td>85</td>\n",
       "    </tr>\n",
       "  </tbody>\n",
       "</table>\n",
       "</div>"
      ],
      "text/plain": [
       "        date  123\n",
       "0 1978-01-02   21\n",
       "1 1978-01-03   34\n",
       "2 1978-01-04   34\n",
       "3 1978-01-05   80\n",
       "4 1978-01-06   85"
      ]
     },
     "execution_count": 72,
     "metadata": {},
     "output_type": "execute_result"
    }
   ],
   "source": [
    "df_temp = clean_dataframe(df_temp, \"123\")\n",
    "df_temp.head()"
   ]
  },
  {
   "cell_type": "code",
   "execution_count": 73,
   "metadata": {},
   "outputs": [
    {
     "name": "stdout",
     "output_type": "stream",
     "text": [
      "QQ_STAID000029.txt\n",
      "QQ_STAID000034.txt\n",
      "QQ_STAID000012.txt\n",
      "QQ_STAID000013.txt\n",
      "QQ_STAID000014.txt\n",
      "QQ_STAID000021.txt\n",
      "QQ_STAID000016.txt\n",
      "QQ_STAID000032.txt\n",
      "QQ_STAID000033.txt\n",
      "QQ_STAID000017.txt\n",
      "QQ_STAID000028.txt\n",
      "QQ_STAID000015.txt\n"
     ]
    },
    {
     "data": {
      "text/html": [
       "<div>\n",
       "<style scoped>\n",
       "    .dataframe tbody tr th:only-of-type {\n",
       "        vertical-align: middle;\n",
       "    }\n",
       "\n",
       "    .dataframe tbody tr th {\n",
       "        vertical-align: top;\n",
       "    }\n",
       "\n",
       "    .dataframe thead th {\n",
       "        text-align: right;\n",
       "    }\n",
       "</style>\n",
       "<table border=\"1\" class=\"dataframe\">\n",
       "  <thead>\n",
       "    <tr style=\"text-align: right;\">\n",
       "      <th></th>\n",
       "      <th>date</th>\n",
       "      <th>global_radiation_000029.</th>\n",
       "      <th>date</th>\n",
       "      <th>global_radiation_000034.</th>\n",
       "      <th>date</th>\n",
       "      <th>global_radiation_000012.</th>\n",
       "      <th>date</th>\n",
       "      <th>global_radiation_000013.</th>\n",
       "      <th>date</th>\n",
       "      <th>global_radiation_000014.</th>\n",
       "      <th>...</th>\n",
       "      <th>date</th>\n",
       "      <th>global_radiation_000032.</th>\n",
       "      <th>date</th>\n",
       "      <th>global_radiation_000033.</th>\n",
       "      <th>date</th>\n",
       "      <th>global_radiation_000017.</th>\n",
       "      <th>date</th>\n",
       "      <th>global_radiation_000028.</th>\n",
       "      <th>date</th>\n",
       "      <th>global_radiation_000015.</th>\n",
       "    </tr>\n",
       "  </thead>\n",
       "  <tbody>\n",
       "    <tr>\n",
       "      <td>0</td>\n",
       "      <td>1991-01-02</td>\n",
       "      <td>4.0</td>\n",
       "      <td>1978-01-02</td>\n",
       "      <td>21.0</td>\n",
       "      <td>1964-01-02</td>\n",
       "      <td>61.0</td>\n",
       "      <td>1969-01-02</td>\n",
       "      <td>11.0</td>\n",
       "      <td>1964-01-02</td>\n",
       "      <td>41.0</td>\n",
       "      <td>...</td>\n",
       "      <td>1987-03-02</td>\n",
       "      <td>48.0</td>\n",
       "      <td>NaT</td>\n",
       "      <td>NaN</td>\n",
       "      <td>1964-01-02</td>\n",
       "      <td>48.0</td>\n",
       "      <td>1964-01-02</td>\n",
       "      <td>5.0</td>\n",
       "      <td>1964-01-02</td>\n",
       "      <td>87.0</td>\n",
       "    </tr>\n",
       "    <tr>\n",
       "      <td>1</td>\n",
       "      <td>1991-01-03</td>\n",
       "      <td>2.0</td>\n",
       "      <td>1978-01-03</td>\n",
       "      <td>34.0</td>\n",
       "      <td>1964-01-03</td>\n",
       "      <td>58.0</td>\n",
       "      <td>1969-01-03</td>\n",
       "      <td>12.0</td>\n",
       "      <td>1964-01-03</td>\n",
       "      <td>68.0</td>\n",
       "      <td>...</td>\n",
       "      <td>1987-03-03</td>\n",
       "      <td>28.0</td>\n",
       "      <td>NaT</td>\n",
       "      <td>NaN</td>\n",
       "      <td>1964-01-03</td>\n",
       "      <td>44.0</td>\n",
       "      <td>1964-01-03</td>\n",
       "      <td>3.0</td>\n",
       "      <td>1964-01-03</td>\n",
       "      <td>88.0</td>\n",
       "    </tr>\n",
       "    <tr>\n",
       "      <td>2</td>\n",
       "      <td>1991-01-04</td>\n",
       "      <td>2.0</td>\n",
       "      <td>1978-01-04</td>\n",
       "      <td>34.0</td>\n",
       "      <td>1964-01-04</td>\n",
       "      <td>56.0</td>\n",
       "      <td>1969-01-04</td>\n",
       "      <td>65.0</td>\n",
       "      <td>1964-01-04</td>\n",
       "      <td>70.0</td>\n",
       "      <td>...</td>\n",
       "      <td>1987-03-04</td>\n",
       "      <td>71.0</td>\n",
       "      <td>NaT</td>\n",
       "      <td>NaN</td>\n",
       "      <td>1964-01-04</td>\n",
       "      <td>18.0</td>\n",
       "      <td>1964-01-04</td>\n",
       "      <td>11.0</td>\n",
       "      <td>1964-01-04</td>\n",
       "      <td>90.0</td>\n",
       "    </tr>\n",
       "    <tr>\n",
       "      <td>3</td>\n",
       "      <td>1991-01-05</td>\n",
       "      <td>1.0</td>\n",
       "      <td>1978-01-05</td>\n",
       "      <td>80.0</td>\n",
       "      <td>1964-01-05</td>\n",
       "      <td>44.0</td>\n",
       "      <td>1969-01-05</td>\n",
       "      <td>74.0</td>\n",
       "      <td>1964-01-05</td>\n",
       "      <td>70.0</td>\n",
       "      <td>...</td>\n",
       "      <td>1987-03-05</td>\n",
       "      <td>121.0</td>\n",
       "      <td>NaT</td>\n",
       "      <td>NaN</td>\n",
       "      <td>1964-01-05</td>\n",
       "      <td>9.0</td>\n",
       "      <td>1964-01-05</td>\n",
       "      <td>24.0</td>\n",
       "      <td>1964-01-05</td>\n",
       "      <td>91.0</td>\n",
       "    </tr>\n",
       "    <tr>\n",
       "      <td>4</td>\n",
       "      <td>1991-01-06</td>\n",
       "      <td>2.0</td>\n",
       "      <td>1978-01-06</td>\n",
       "      <td>85.0</td>\n",
       "      <td>1964-01-06</td>\n",
       "      <td>37.0</td>\n",
       "      <td>1969-01-06</td>\n",
       "      <td>68.0</td>\n",
       "      <td>1964-01-06</td>\n",
       "      <td>22.0</td>\n",
       "      <td>...</td>\n",
       "      <td>1987-03-06</td>\n",
       "      <td>117.0</td>\n",
       "      <td>NaT</td>\n",
       "      <td>NaN</td>\n",
       "      <td>1964-01-06</td>\n",
       "      <td>21.0</td>\n",
       "      <td>1964-01-06</td>\n",
       "      <td>7.0</td>\n",
       "      <td>1964-01-06</td>\n",
       "      <td>91.0</td>\n",
       "    </tr>\n",
       "  </tbody>\n",
       "</table>\n",
       "<p>5 rows × 24 columns</p>\n",
       "</div>"
      ],
      "text/plain": [
       "        date  global_radiation_000029.       date  global_radiation_000034.  \\\n",
       "0 1991-01-02                       4.0 1978-01-02                      21.0   \n",
       "1 1991-01-03                       2.0 1978-01-03                      34.0   \n",
       "2 1991-01-04                       2.0 1978-01-04                      34.0   \n",
       "3 1991-01-05                       1.0 1978-01-05                      80.0   \n",
       "4 1991-01-06                       2.0 1978-01-06                      85.0   \n",
       "\n",
       "        date  global_radiation_000012.       date  global_radiation_000013.  \\\n",
       "0 1964-01-02                      61.0 1969-01-02                      11.0   \n",
       "1 1964-01-03                      58.0 1969-01-03                      12.0   \n",
       "2 1964-01-04                      56.0 1969-01-04                      65.0   \n",
       "3 1964-01-05                      44.0 1969-01-05                      74.0   \n",
       "4 1964-01-06                      37.0 1969-01-06                      68.0   \n",
       "\n",
       "        date  global_radiation_000014.  ...       date  \\\n",
       "0 1964-01-02                      41.0  ... 1987-03-02   \n",
       "1 1964-01-03                      68.0  ... 1987-03-03   \n",
       "2 1964-01-04                      70.0  ... 1987-03-04   \n",
       "3 1964-01-05                      70.0  ... 1987-03-05   \n",
       "4 1964-01-06                      22.0  ... 1987-03-06   \n",
       "\n",
       "   global_radiation_000032. date  global_radiation_000033.       date  \\\n",
       "0                      48.0  NaT                       NaN 1964-01-02   \n",
       "1                      28.0  NaT                       NaN 1964-01-03   \n",
       "2                      71.0  NaT                       NaN 1964-01-04   \n",
       "3                     121.0  NaT                       NaN 1964-01-05   \n",
       "4                     117.0  NaT                       NaN 1964-01-06   \n",
       "\n",
       "   global_radiation_000017.       date  global_radiation_000028.       date  \\\n",
       "0                      48.0 1964-01-02                       5.0 1964-01-02   \n",
       "1                      44.0 1964-01-03                       3.0 1964-01-03   \n",
       "2                      18.0 1964-01-04                      11.0 1964-01-04   \n",
       "3                       9.0 1964-01-05                      24.0 1964-01-05   \n",
       "4                      21.0 1964-01-06                       7.0 1964-01-06   \n",
       "\n",
       "   global_radiation_000015.  \n",
       "0                      87.0  \n",
       "1                      88.0  \n",
       "2                      90.0  \n",
       "3                      91.0  \n",
       "4                      91.0  \n",
       "\n",
       "[5 rows x 24 columns]"
      ]
     },
     "execution_count": 73,
     "metadata": {},
     "output_type": "execute_result"
    }
   ],
   "source": [
    "for fn in only_files:\n",
    "    print(fn)\n",
    "    column_name = folder_theme[fn[:2]] + fn[8:-3]\n",
    "    df_temp = pd.read_csv(join(current_path, fn), header=None)\n",
    "    df_temp = clean_dataframe(df_temp, column_name)\n",
    "    df = pd.concat([df, df_temp], axis=1, sort=False)\n",
    "\n",
    "df.head()"
   ]
  },
  {
   "cell_type": "code",
   "execution_count": null,
   "metadata": {},
   "outputs": [],
   "source": []
  },
  {
   "cell_type": "code",
   "execution_count": null,
   "metadata": {},
   "outputs": [],
   "source": []
  },
  {
   "cell_type": "code",
   "execution_count": null,
   "metadata": {},
   "outputs": [],
   "source": []
  },
  {
   "cell_type": "code",
   "execution_count": null,
   "metadata": {},
   "outputs": [],
   "source": []
  },
  {
   "cell_type": "code",
   "execution_count": null,
   "metadata": {},
   "outputs": [],
   "source": [
    "df_test = pd.read_csv(\"./Daily_cloud_cover_CC/CC_STAID000001.txt\", sep=\" \", header=None)"
   ]
  },
  {
   "cell_type": "code",
   "execution_count": null,
   "metadata": {},
   "outputs": [],
   "source": [
    "df_test = clean_dataframe(df_test, \"cloud_cover\")\n",
    "df_test.head()"
   ]
  },
  {
   "cell_type": "code",
   "execution_count": null,
   "metadata": {},
   "outputs": [],
   "source": [
    "df_tt = pd.read_csv(\"./Daily_cloud_cover_CC/CC_STAID000002.txt\", sep=\" \", header=None)"
   ]
  },
  {
   "cell_type": "code",
   "execution_count": null,
   "metadata": {},
   "outputs": [],
   "source": [
    "df_tt = clean_dataframe(df_tt, \"cloud_cover_1\")"
   ]
  },
  {
   "cell_type": "code",
   "execution_count": null,
   "metadata": {},
   "outputs": [],
   "source": [
    "df_tt.head()"
   ]
  },
  {
   "cell_type": "code",
   "execution_count": null,
   "metadata": {},
   "outputs": [],
   "source": [
    "df_test.cloud_cover.sum()"
   ]
  },
  {
   "cell_type": "code",
   "execution_count": null,
   "metadata": {},
   "outputs": [],
   "source": [
    "df_tt.cloud_cover_1.sum()"
   ]
  },
  {
   "cell_type": "code",
   "execution_count": null,
   "metadata": {},
   "outputs": [],
   "source": [
    "df_test.shape"
   ]
  },
  {
   "cell_type": "code",
   "execution_count": null,
   "metadata": {},
   "outputs": [],
   "source": [
    "df_tt.shape"
   ]
  },
  {
   "cell_type": "code",
   "execution_count": null,
   "metadata": {},
   "outputs": [],
   "source": [
    "df_c = pd.concat([df_test, df_tt], axis=1, sort=False)\n",
    "df_c.head()"
   ]
  },
  {
   "cell_type": "code",
   "execution_count": null,
   "metadata": {},
   "outputs": [],
   "source": [
    "df_c.columns"
   ]
  },
  {
   "cell_type": "code",
   "execution_count": null,
   "metadata": {},
   "outputs": [],
   "source": [
    "df_c.shape"
   ]
  },
  {
   "cell_type": "code",
   "execution_count": null,
   "metadata": {},
   "outputs": [],
   "source": [
    "df_c.isnull().sum()"
   ]
  },
  {
   "cell_type": "code",
   "execution_count": null,
   "metadata": {},
   "outputs": [],
   "source": [
    "df_c.info()"
   ]
  },
  {
   "cell_type": "code",
   "execution_count": null,
   "metadata": {},
   "outputs": [],
   "source": []
  },
  {
   "cell_type": "code",
   "execution_count": null,
   "metadata": {},
   "outputs": [],
   "source": [
    "!ls"
   ]
  },
  {
   "cell_type": "code",
   "execution_count": null,
   "metadata": {},
   "outputs": [],
   "source": [
    "from os import listdir\n",
    "from os.path import isfile, isdir, join, exists"
   ]
  },
  {
   "cell_type": "code",
   "execution_count": null,
   "metadata": {},
   "outputs": [],
   "source": [
    "def remove_useless_files(folder, file_list):\n",
    "    for f in file_list:\n",
    "        file_path = join(folder, f)\n",
    "        if exists(file_path):\n",
    "          os.remove(file_path)"
   ]
  },
  {
   "cell_type": "code",
   "execution_count": null,
   "metadata": {},
   "outputs": [],
   "source": [
    "remove_useless_files(\"Daily_cloud_cover_CC\", [\"elements.txt\", \"sources.txt\", \"stations.txt\"])"
   ]
  },
  {
   "cell_type": "code",
   "execution_count": null,
   "metadata": {},
   "outputs": [],
   "source": [
    "# launch the script in the folder\n",
    "folder = \"Daily_cloud_cover_CC\"\n",
    "\n",
    "os.remove(\"elements.txt\")\n",
    "\n",
    "\n",
    "\n",
    "# list all files that need to be edited\n",
    "\n",
    "only_files = [f for f in listdir(folder_path) if isfile(join(folder_path, f))]\n",
    "print(\"Start editing files in current folder :\\t\", current_folder)\n",
    "\n",
    "# remove headers ie 21 first lines\n",
    "for f in only_files:\n",
    "    file_path = join(folder_path, f)\n",
    "    with open(file_path, 'r') as fin:\n",
    "        data = fin.read().splitlines(True)\n",
    "    with open(file_path, 'w') as fout:\n",
    "        fout.writelines(data[22:])"
   ]
  },
  {
   "cell_type": "code",
   "execution_count": null,
   "metadata": {},
   "outputs": [],
   "source": []
  },
  {
   "cell_type": "code",
   "execution_count": null,
   "metadata": {},
   "outputs": [],
   "source": []
  },
  {
   "cell_type": "code",
   "execution_count": null,
   "metadata": {},
   "outputs": [],
   "source": []
  },
  {
   "cell_type": "code",
   "execution_count": null,
   "metadata": {},
   "outputs": [],
   "source": []
  },
  {
   "cell_type": "code",
   "execution_count": null,
   "metadata": {},
   "outputs": [],
   "source": []
  },
  {
   "cell_type": "code",
   "execution_count": null,
   "metadata": {},
   "outputs": [],
   "source": [
    "name CC + station id  "
   ]
  }
 ],
 "metadata": {
  "kernelspec": {
   "display_name": "Python 3",
   "language": "python",
   "name": "python3"
  },
  "language_info": {
   "codemirror_mode": {
    "name": "ipython",
    "version": 3
   },
   "file_extension": ".py",
   "mimetype": "text/x-python",
   "name": "python",
   "nbconvert_exporter": "python",
   "pygments_lexer": "ipython3",
   "version": "3.7.4"
  },
  "toc": {
   "base_numbering": 1,
   "nav_menu": {},
   "number_sections": true,
   "sideBar": true,
   "skip_h1_title": false,
   "title_cell": "Table of Contents",
   "title_sidebar": "Contents",
   "toc_cell": false,
   "toc_position": {},
   "toc_section_display": true,
   "toc_window_display": false
  }
 },
 "nbformat": 4,
 "nbformat_minor": 2
}
