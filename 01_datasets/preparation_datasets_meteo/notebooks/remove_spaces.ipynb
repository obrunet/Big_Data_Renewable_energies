{
 "cells": [
  {
   "cell_type": "code",
   "execution_count": 22,
   "metadata": {},
   "outputs": [],
   "source": [
    "from os import listdir\n",
    "from os.path import isfile, isdir, join\n",
    "\n",
    "\n",
    "current_path = \"test_datasets\"\n",
    "folders = ['Daily global radiation QQ ', 'Daily maximum wind gust FX']\n",
    "\n",
    "for folder in folders:\n",
    "    folder_path = join(current_path, folder)\n",
    "    only_files = [f for f in listdir(folder_path) if isfile(join(folder_path, f))]\n",
    "    for f in only_files:\n",
    "        file_path = join(folder_path, f)\n",
    "        with open(file_path, 'r') as fin:\n",
    "            data, new_data = fin.read().splitlines(True), []\n",
    "            for l in data:\n",
    "                new_data.append(l.replace(\" \", \"\"))\n",
    "        with open(file_path, 'w') as fout:\n",
    "            fout.writelines(new_data)"
   ]
  },
  {
   "cell_type": "code",
   "execution_count": null,
   "metadata": {},
   "outputs": [],
   "source": []
  },
  {
   "cell_type": "code",
   "execution_count": 4,
   "metadata": {},
   "outputs": [
    {
     "data": {
      "text/plain": [
       "['QQ_STAID000029.txt',\n",
       " 'QQ_STAID000034.txt',\n",
       " 'QQ_STAID000012.txt',\n",
       " 'QQ_STAID000013.txt',\n",
       " 'QQ_STAID000014.txt',\n",
       " 'QQ_STAID000021.txt',\n",
       " 'QQ_STAID000016.txt',\n",
       " 'QQ_STAID000032.txt',\n",
       " 'QQ_STAID000033.txt',\n",
       " 'QQ_STAID000017.txt',\n",
       " 'QQ_STAID000028.txt',\n",
       " 'QQ_STAID000015.txt']"
      ]
     },
     "execution_count": 4,
     "metadata": {},
     "output_type": "execute_result"
    }
   ],
   "source": [
    "only_files = [f for f in listdir(my_path) if isfile(join(my_path, f))]\n",
    "only_files"
   ]
  },
  {
   "cell_type": "code",
   "execution_count": 19,
   "metadata": {},
   "outputs": [],
   "source": [
    "\n",
    "with open(file_path, 'r') as fin:\n",
    "    data, new_data = fin.read().splitlines(True), []\n",
    "    for l in data:\n",
    "        new_data.append(l.replace(\" \", \"\"))\n",
    "with open(file_path, 'w') as fout:\n",
    "    fout.writelines(new_data)"
   ]
  },
  {
   "cell_type": "code",
   "execution_count": null,
   "metadata": {},
   "outputs": [],
   "source": []
  }
 ],
 "metadata": {
  "kernelspec": {
   "display_name": "Python 3",
   "language": "python",
   "name": "python3"
  },
  "language_info": {
   "codemirror_mode": {
    "name": "ipython",
    "version": 3
   },
   "file_extension": ".py",
   "mimetype": "text/x-python",
   "name": "python",
   "nbconvert_exporter": "python",
   "pygments_lexer": "ipython3",
   "version": "3.7.4"
  }
 },
 "nbformat": 4,
 "nbformat_minor": 2
}
