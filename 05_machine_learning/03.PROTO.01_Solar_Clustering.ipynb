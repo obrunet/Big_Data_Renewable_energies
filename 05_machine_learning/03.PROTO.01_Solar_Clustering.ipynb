{
 "cells": [
  {
   "cell_type": "markdown",
   "metadata": {},
   "source": [
    "# Clustering - identifying groups of countries with similar profiles\n",
    "---"
   ]
  },
  {
   "cell_type": "markdown",
   "metadata": {},
   "source": [
    "## Introduction"
   ]
  },
  {
   "cell_type": "code",
   "execution_count": 1,
   "metadata": {},
   "outputs": [],
   "source": [
    "import numpy as np\n",
    "import pandas as pd\n",
    "\n",
    "import seaborn as sns\n",
    "import matplotlib.pyplot as plt\n",
    "\n",
    "pd.options.display.max_columns = 50\n",
    "\n",
    "import warnings\n",
    "warnings.filterwarnings(\"ignore\")"
   ]
  },
  {
   "cell_type": "code",
   "execution_count": 2,
   "metadata": {},
   "outputs": [],
   "source": [
    "from pyspark.sql import SparkSession\n",
    "\n",
    "from pyspark.sql.functions import *\n",
    "#from pyspark.sql.functions import lit, col\n",
    "from pyspark.sql.types import DoubleType"
   ]
  },
  {
   "cell_type": "markdown",
   "metadata": {},
   "source": [
    "## 1. Data preparation"
   ]
  },
  {
   "cell_type": "markdown",
   "metadata": {},
   "source": [
    "Let's see what our dataset looks like"
   ]
  },
  {
   "cell_type": "code",
   "execution_count": 3,
   "metadata": {},
   "outputs": [],
   "source": [
    "# creation of a spark session\n",
    "spk_sess = SparkSession \\\n",
    "    .builder \\\n",
    "    .appName(\"_Project_Spark_App\") \\\n",
    "    .config(\"spark.some.config.option\", \"some-value\") \\\n",
    "    .getOrCreate()\n",
    "\n",
    "# load csv file in a DF and show first lines\n",
    "df = spk_sess.read.csv(\"./solar_generation_by_country.csv\", header=True, sep=\",\");"
   ]
  },
  {
   "cell_type": "markdown",
   "metadata": {},
   "source": [
    "__Understanding of the dataset__"
   ]
  },
  {
   "cell_type": "code",
   "execution_count": 4,
   "metadata": {},
   "outputs": [
    {
     "name": "stdout",
     "output_type": "stream",
     "text": [
      "== Physical Plan ==\n",
      "*(1) FileScan csv [AT#10,BE#11,BG#12,CH#13,CY#14,CZ#15,DE#16,DK#17,EE#18,ES#19,FI#20,FR#21,EL#22,HR#23,HU#24,IE#25,IT#26,LT#27,LU#28,LV#29,NL#30,NO#31,PL#32,PT#33,... 5 more fields] Batched: false, Format: CSV, Location: InMemoryFileIndex[file:/home/jovyan/work/solar_generation_by_country.csv], PartitionFilters: [], PushedFilters: [], ReadSchema: struct<AT:string,BE:string,BG:string,CH:string,CY:string,CZ:string,DE:string,DK:string,EE:string,...\n"
     ]
    },
    {
     "data": {
      "text/plain": [
       "<bound method DataFrame.printSchema of DataFrame[AT: string, BE: string, BG: string, CH: string, CY: string, CZ: string, DE: string, DK: string, EE: string, ES: string, FI: string, FR: string, EL: string, HR: string, HU: string, IE: string, IT: string, LT: string, LU: string, LV: string, NL: string, NO: string, PL: string, PT: string, RO: string, SI: string, SK: string, SE: string, UK: string]>"
      ]
     },
     "execution_count": 4,
     "metadata": {},
     "output_type": "execute_result"
    }
   ],
   "source": [
    "# Print the schema of df\n",
    "df.explain()\n",
    "\n",
    "# Print the (logical and physical) plans\n",
    "df.printSchema "
   ]
  },
  {
   "cell_type": "code",
   "execution_count": 5,
   "metadata": {},
   "outputs": [
    {
     "name": "stdout",
     "output_type": "stream",
     "text": [
      "['AT', 'BE', 'BG', 'CH', 'CY', 'CZ', 'DE', 'DK', 'EE', 'ES', 'FI', 'FR', 'EL', 'HR', 'HU', 'IE', 'IT', 'LT', 'LU', 'LV', 'NL', 'NO', 'PL', 'PT', 'RO', 'SI', 'SK', 'SE', 'UK']\n"
     ]
    }
   ],
   "source": [
    "print(df.columns)\n",
    "# df.dtypes"
   ]
  },
  {
   "cell_type": "markdown",
   "metadata": {},
   "source": [
    "__Changing columns' types__"
   ]
  },
  {
   "cell_type": "code",
   "execution_count": 6,
   "metadata": {},
   "outputs": [
    {
     "name": "stdout",
     "output_type": "stream",
     "text": [
      "root\n",
      " |-- AT: double (nullable = true)\n",
      " |-- BE: double (nullable = true)\n",
      " |-- BG: double (nullable = true)\n",
      " |-- CH: double (nullable = true)\n",
      " |-- CY: double (nullable = true)\n",
      " |-- CZ: double (nullable = true)\n",
      " |-- DE: double (nullable = true)\n",
      " |-- DK: double (nullable = true)\n",
      " |-- EE: double (nullable = true)\n",
      " |-- ES: double (nullable = true)\n",
      " |-- FI: double (nullable = true)\n",
      " |-- FR: double (nullable = true)\n",
      " |-- EL: double (nullable = true)\n",
      " |-- HR: double (nullable = true)\n",
      " |-- HU: double (nullable = true)\n",
      " |-- IE: double (nullable = true)\n",
      " |-- IT: double (nullable = true)\n",
      " |-- LT: double (nullable = true)\n",
      " |-- LU: double (nullable = true)\n",
      " |-- LV: double (nullable = true)\n",
      " |-- NL: double (nullable = true)\n",
      " |-- NO: double (nullable = true)\n",
      " |-- PL: double (nullable = true)\n",
      " |-- PT: double (nullable = true)\n",
      " |-- RO: double (nullable = true)\n",
      " |-- SI: double (nullable = true)\n",
      " |-- SK: double (nullable = true)\n",
      " |-- SE: double (nullable = true)\n",
      " |-- UK: double (nullable = true)\n",
      "\n"
     ]
    }
   ],
   "source": [
    "# change cols types\n",
    "for c in df.columns:\n",
    "    if c != 'date_time':\n",
    "        df = df.withColumn(c, df[c].cast(DoubleType()))\n",
    "        \n",
    "df.printSchema()\n",
    "# same info retrieved with df.dtypes"
   ]
  },
  {
   "cell_type": "markdown",
   "metadata": {},
   "source": [
    "__First insight__"
   ]
  },
  {
   "cell_type": "code",
   "execution_count": 7,
   "metadata": {},
   "outputs": [
    {
     "name": "stdout",
     "output_type": "stream",
     "text": [
      "+-------------------+-------------------+-------------------+\n",
      "|                 FR|                 UK|                 ES|\n",
      "+-------------------+-------------------+-------------------+\n",
      "|                0.0|                0.0|                0.0|\n",
      "|                0.0|                0.0|                0.0|\n",
      "|                0.0|                0.0|                0.0|\n",
      "|                0.0|                0.0|                0.0|\n",
      "|                0.0|                0.0|                0.0|\n",
      "|                0.0|                0.0|                0.0|\n",
      "|                0.0|                0.0|                0.0|\n",
      "|                0.0|                0.0|                0.0|\n",
      "| 0.0420031786189225|                0.0| 0.0439209623544281|\n",
      "|  0.123842705213728| 0.0474854446145074|0.14601200686106303|\n",
      "|  0.158755711424721|0.10951678628072099|0.20926243567752997|\n",
      "|  0.198553152005591|  0.164216422322982|0.24708337149661103|\n",
      "|  0.201228475964132|  0.155820023810148|0.28553508719719106|\n",
      "|  0.183848274982349|  0.122489550502618|  0.297286516966083|\n",
      "|0.14734448372669598| 0.0702785030461271|  0.267982694495865|\n",
      "+-------------------+-------------------+-------------------+\n",
      "only showing top 15 rows\n",
      "\n"
     ]
    }
   ],
   "source": [
    "df.select('FR', 'UK', 'ES').show(15)"
   ]
  },
  {
   "cell_type": "markdown",
   "metadata": {},
   "source": [
    "__Shape of the dataframe__"
   ]
  },
  {
   "cell_type": "code",
   "execution_count": 8,
   "metadata": {},
   "outputs": [
    {
     "data": {
      "text/plain": [
       "(262968, 29)"
      ]
     },
     "execution_count": 8,
     "metadata": {},
     "output_type": "execute_result"
    }
   ],
   "source": [
    "df.count(), len(df.columns)"
   ]
  },
  {
   "cell_type": "code",
   "execution_count": 9,
   "metadata": {},
   "outputs": [
    {
     "data": {
      "text/plain": [
       "158709"
      ]
     },
     "execution_count": 9,
     "metadata": {},
     "output_type": "execute_result"
    }
   ],
   "source": [
    "# Count the number of distinct rows in df\n",
    "df.distinct().count()"
   ]
  },
  {
   "cell_type": "markdown",
   "metadata": {},
   "source": [
    "__Missing values__"
   ]
  },
  {
   "cell_type": "markdown",
   "metadata": {},
   "source": [
    "In the case of NaNs, here is a usefull link to [deal with missing values](https://fr.coursera.org/lecture/big-data-machine-learning/handling-missing-values-in-spark-Goh1z). But here, there isn't any missing values :"
   ]
  },
  {
   "cell_type": "code",
   "execution_count": 10,
   "metadata": {},
   "outputs": [
    {
     "name": "stdout",
     "output_type": "stream",
     "text": [
      "+---+---+---+---+---+---+---+---+---+---+---+---+---+---+---+---+---+---+---+---+---+---+---+---+---+---+---+---+---+\n",
      "| AT| BE| BG| CH| CY| CZ| DE| DK| EE| ES| FI| FR| EL| HR| HU| IE| IT| LT| LU| LV| NL| NO| PL| PT| RO| SI| SK| SE| UK|\n",
      "+---+---+---+---+---+---+---+---+---+---+---+---+---+---+---+---+---+---+---+---+---+---+---+---+---+---+---+---+---+\n",
      "|  0|  0|  0|  0|  0|  0|  0|  0|  0|  0|  0|  0|  0|  0|  0|  0|  0|  0|  0|  0|  0|  0|  0|  0|  0|  0|  0|  0|  0|\n",
      "+---+---+---+---+---+---+---+---+---+---+---+---+---+---+---+---+---+---+---+---+---+---+---+---+---+---+---+---+---+\n",
      "\n"
     ]
    }
   ],
   "source": [
    "#from pyspark.sql.functions import isnan, when, count, col\n",
    "df.select([count(when(isnan(c), c)).alias(c) for c in df.columns if c != 'date_time']).show()\n",
    "# drop na values if needed / not the case here -> df = df.na.drop()"
   ]
  },
  {
   "cell_type": "markdown",
   "metadata": {},
   "source": [
    "__Transpose our dataframe__"
   ]
  },
  {
   "cell_type": "markdown",
   "metadata": {},
   "source": [
    "Because clusters are made from rows, the countries should be seen horizontally. So we need to transpose our dataframe, which is, as far as i know not possible with Spark. Because Spark DataFrame distributes data by row (although locally uses columnar storage). Therefore size of a individual rows is limited to local memory. \n",
    "\n",
    "An option is to convert it to Pandas DataFrame if data is small enough to be transposed (not pivoted with aggregation) or to use and RDD.\n",
    "\n",
    "Sources : \n",
    "- https://stackoverflow.com/questions/46453058/dataframe-transpose-with-pyspark-in-apache-spark\n",
    "- https://community.cloudera.com/t5/Support-Questions/How-to-transpose-a-pyspark-dataframe/td-p/131471\n",
    "- http://www.data-intuitive.com/2015/01/transposing-a-spark-rdd/"
   ]
  },
  {
   "cell_type": "code",
   "execution_count": 11,
   "metadata": {},
   "outputs": [],
   "source": [
    "rdd = df.rdd\n",
    "rdd.take(3)\n",
    "\n",
    "def rddTranspose(_rdd):\n",
    "    _rddT1 = _rdd.zipWithIndex().flatMap(lambda x, i: [(i, j, e) for (j, e) in enumerate(x)])\n",
    "    _rddT2 = _rddT1.map(lambda i, j, e: (j, (i,e))).groupByKey().sortByKey()\n",
    "    _rddT3 = _rddT2.map(lambda i, x: sorted(list(x), cmp=lambda i1,e1,i2,e2 : cmp(i1, i2)))\n",
    "    _rddT4 = _rddT3.map(lambda x: map(lambda i, y: y, x))\n",
    "    return _rddT4.map(lambda x: np.asarray(x))\n",
    "\n",
    "#rddTranspose(rdd)"
   ]
  },
  {
   "cell_type": "code",
   "execution_count": 12,
   "metadata": {},
   "outputs": [
    {
     "data": {
      "text/html": [
       "<div>\n",
       "<style scoped>\n",
       "    .dataframe tbody tr th:only-of-type {\n",
       "        vertical-align: middle;\n",
       "    }\n",
       "\n",
       "    .dataframe tbody tr th {\n",
       "        vertical-align: top;\n",
       "    }\n",
       "\n",
       "    .dataframe thead th {\n",
       "        text-align: right;\n",
       "    }\n",
       "</style>\n",
       "<table border=\"1\" class=\"dataframe\">\n",
       "  <thead>\n",
       "    <tr style=\"text-align: right;\">\n",
       "      <th></th>\n",
       "      <th>index</th>\n",
       "      <th>254208</th>\n",
       "      <th>254209</th>\n",
       "      <th>254210</th>\n",
       "      <th>254211</th>\n",
       "      <th>254212</th>\n",
       "      <th>254213</th>\n",
       "      <th>254214</th>\n",
       "      <th>254215</th>\n",
       "      <th>254216</th>\n",
       "      <th>254217</th>\n",
       "      <th>254218</th>\n",
       "      <th>254219</th>\n",
       "      <th>254220</th>\n",
       "      <th>254221</th>\n",
       "      <th>254222</th>\n",
       "      <th>254223</th>\n",
       "      <th>254224</th>\n",
       "      <th>254225</th>\n",
       "      <th>254226</th>\n",
       "      <th>254227</th>\n",
       "      <th>254228</th>\n",
       "      <th>254229</th>\n",
       "      <th>254230</th>\n",
       "      <th>254231</th>\n",
       "      <th>...</th>\n",
       "      <th>262943</th>\n",
       "      <th>262944</th>\n",
       "      <th>262945</th>\n",
       "      <th>262946</th>\n",
       "      <th>262947</th>\n",
       "      <th>262948</th>\n",
       "      <th>262949</th>\n",
       "      <th>262950</th>\n",
       "      <th>262951</th>\n",
       "      <th>262952</th>\n",
       "      <th>262953</th>\n",
       "      <th>262954</th>\n",
       "      <th>262955</th>\n",
       "      <th>262956</th>\n",
       "      <th>262957</th>\n",
       "      <th>262958</th>\n",
       "      <th>262959</th>\n",
       "      <th>262960</th>\n",
       "      <th>262961</th>\n",
       "      <th>262962</th>\n",
       "      <th>262963</th>\n",
       "      <th>262964</th>\n",
       "      <th>262965</th>\n",
       "      <th>262966</th>\n",
       "      <th>262967</th>\n",
       "    </tr>\n",
       "  </thead>\n",
       "  <tbody>\n",
       "    <tr>\n",
       "      <th>0</th>\n",
       "      <td>AT</td>\n",
       "      <td>0.0</td>\n",
       "      <td>0.0</td>\n",
       "      <td>0.0</td>\n",
       "      <td>0.0</td>\n",
       "      <td>0.0</td>\n",
       "      <td>0.0</td>\n",
       "      <td>0.000000</td>\n",
       "      <td>0.027972</td>\n",
       "      <td>0.113287</td>\n",
       "      <td>0.127273</td>\n",
       "      <td>0.116084</td>\n",
       "      <td>0.113287</td>\n",
       "      <td>0.109091</td>\n",
       "      <td>0.099301</td>\n",
       "      <td>0.064336</td>\n",
       "      <td>0.020979</td>\n",
       "      <td>0.0</td>\n",
       "      <td>0.0</td>\n",
       "      <td>0.0</td>\n",
       "      <td>0.0</td>\n",
       "      <td>0.0</td>\n",
       "      <td>0.0</td>\n",
       "      <td>0.0</td>\n",
       "      <td>0.0</td>\n",
       "      <td>...</td>\n",
       "      <td>0.0</td>\n",
       "      <td>0.0</td>\n",
       "      <td>0.0</td>\n",
       "      <td>0.0</td>\n",
       "      <td>0.0</td>\n",
       "      <td>0.0</td>\n",
       "      <td>0.0</td>\n",
       "      <td>0.00000</td>\n",
       "      <td>0.040559</td>\n",
       "      <td>0.282517</td>\n",
       "      <td>0.405594</td>\n",
       "      <td>0.460140</td>\n",
       "      <td>0.474126</td>\n",
       "      <td>0.433566</td>\n",
       "      <td>0.358042</td>\n",
       "      <td>0.209790</td>\n",
       "      <td>0.018182</td>\n",
       "      <td>0.0</td>\n",
       "      <td>0.0</td>\n",
       "      <td>0.0</td>\n",
       "      <td>0.0</td>\n",
       "      <td>0.0</td>\n",
       "      <td>0.0</td>\n",
       "      <td>0.0</td>\n",
       "      <td>0.0</td>\n",
       "    </tr>\n",
       "    <tr>\n",
       "      <th>1</th>\n",
       "      <td>BE</td>\n",
       "      <td>0.0</td>\n",
       "      <td>0.0</td>\n",
       "      <td>0.0</td>\n",
       "      <td>0.0</td>\n",
       "      <td>0.0</td>\n",
       "      <td>0.0</td>\n",
       "      <td>0.000000</td>\n",
       "      <td>0.000000</td>\n",
       "      <td>0.019710</td>\n",
       "      <td>0.232778</td>\n",
       "      <td>0.392154</td>\n",
       "      <td>0.456041</td>\n",
       "      <td>0.442448</td>\n",
       "      <td>0.302101</td>\n",
       "      <td>0.183844</td>\n",
       "      <td>0.029225</td>\n",
       "      <td>0.0</td>\n",
       "      <td>0.0</td>\n",
       "      <td>0.0</td>\n",
       "      <td>0.0</td>\n",
       "      <td>0.0</td>\n",
       "      <td>0.0</td>\n",
       "      <td>0.0</td>\n",
       "      <td>0.0</td>\n",
       "      <td>...</td>\n",
       "      <td>0.0</td>\n",
       "      <td>0.0</td>\n",
       "      <td>0.0</td>\n",
       "      <td>0.0</td>\n",
       "      <td>0.0</td>\n",
       "      <td>0.0</td>\n",
       "      <td>0.0</td>\n",
       "      <td>0.00000</td>\n",
       "      <td>0.000000</td>\n",
       "      <td>0.045196</td>\n",
       "      <td>0.251128</td>\n",
       "      <td>0.356473</td>\n",
       "      <td>0.433952</td>\n",
       "      <td>0.459439</td>\n",
       "      <td>0.404048</td>\n",
       "      <td>0.267779</td>\n",
       "      <td>0.075101</td>\n",
       "      <td>0.0</td>\n",
       "      <td>0.0</td>\n",
       "      <td>0.0</td>\n",
       "      <td>0.0</td>\n",
       "      <td>0.0</td>\n",
       "      <td>0.0</td>\n",
       "      <td>0.0</td>\n",
       "      <td>0.0</td>\n",
       "    </tr>\n",
       "    <tr>\n",
       "      <th>2</th>\n",
       "      <td>BG</td>\n",
       "      <td>0.0</td>\n",
       "      <td>0.0</td>\n",
       "      <td>0.0</td>\n",
       "      <td>0.0</td>\n",
       "      <td>0.0</td>\n",
       "      <td>0.0</td>\n",
       "      <td>0.035793</td>\n",
       "      <td>0.192023</td>\n",
       "      <td>0.302919</td>\n",
       "      <td>0.354551</td>\n",
       "      <td>0.382422</td>\n",
       "      <td>0.369163</td>\n",
       "      <td>0.313377</td>\n",
       "      <td>0.225553</td>\n",
       "      <td>0.065662</td>\n",
       "      <td>0.000000</td>\n",
       "      <td>0.0</td>\n",
       "      <td>0.0</td>\n",
       "      <td>0.0</td>\n",
       "      <td>0.0</td>\n",
       "      <td>0.0</td>\n",
       "      <td>0.0</td>\n",
       "      <td>0.0</td>\n",
       "      <td>0.0</td>\n",
       "      <td>...</td>\n",
       "      <td>0.0</td>\n",
       "      <td>0.0</td>\n",
       "      <td>0.0</td>\n",
       "      <td>0.0</td>\n",
       "      <td>0.0</td>\n",
       "      <td>0.0</td>\n",
       "      <td>0.0</td>\n",
       "      <td>0.03475</td>\n",
       "      <td>0.202214</td>\n",
       "      <td>0.342270</td>\n",
       "      <td>0.452312</td>\n",
       "      <td>0.463855</td>\n",
       "      <td>0.464995</td>\n",
       "      <td>0.398385</td>\n",
       "      <td>0.297605</td>\n",
       "      <td>0.111154</td>\n",
       "      <td>0.000000</td>\n",
       "      <td>0.0</td>\n",
       "      <td>0.0</td>\n",
       "      <td>0.0</td>\n",
       "      <td>0.0</td>\n",
       "      <td>0.0</td>\n",
       "      <td>0.0</td>\n",
       "      <td>0.0</td>\n",
       "      <td>0.0</td>\n",
       "    </tr>\n",
       "    <tr>\n",
       "      <th>3</th>\n",
       "      <td>CH</td>\n",
       "      <td>0.0</td>\n",
       "      <td>0.0</td>\n",
       "      <td>0.0</td>\n",
       "      <td>0.0</td>\n",
       "      <td>0.0</td>\n",
       "      <td>0.0</td>\n",
       "      <td>0.000000</td>\n",
       "      <td>0.014463</td>\n",
       "      <td>0.107674</td>\n",
       "      <td>0.163776</td>\n",
       "      <td>0.185244</td>\n",
       "      <td>0.186777</td>\n",
       "      <td>0.181647</td>\n",
       "      <td>0.175124</td>\n",
       "      <td>0.141796</td>\n",
       "      <td>0.053878</td>\n",
       "      <td>0.0</td>\n",
       "      <td>0.0</td>\n",
       "      <td>0.0</td>\n",
       "      <td>0.0</td>\n",
       "      <td>0.0</td>\n",
       "      <td>0.0</td>\n",
       "      <td>0.0</td>\n",
       "      <td>0.0</td>\n",
       "      <td>...</td>\n",
       "      <td>0.0</td>\n",
       "      <td>0.0</td>\n",
       "      <td>0.0</td>\n",
       "      <td>0.0</td>\n",
       "      <td>0.0</td>\n",
       "      <td>0.0</td>\n",
       "      <td>0.0</td>\n",
       "      <td>0.00000</td>\n",
       "      <td>0.016734</td>\n",
       "      <td>0.047136</td>\n",
       "      <td>0.075455</td>\n",
       "      <td>0.116825</td>\n",
       "      <td>0.126402</td>\n",
       "      <td>0.127811</td>\n",
       "      <td>0.102086</td>\n",
       "      <td>0.085494</td>\n",
       "      <td>0.058601</td>\n",
       "      <td>0.0</td>\n",
       "      <td>0.0</td>\n",
       "      <td>0.0</td>\n",
       "      <td>0.0</td>\n",
       "      <td>0.0</td>\n",
       "      <td>0.0</td>\n",
       "      <td>0.0</td>\n",
       "      <td>0.0</td>\n",
       "    </tr>\n",
       "    <tr>\n",
       "      <th>4</th>\n",
       "      <td>CY</td>\n",
       "      <td>0.0</td>\n",
       "      <td>0.0</td>\n",
       "      <td>0.0</td>\n",
       "      <td>0.0</td>\n",
       "      <td>0.0</td>\n",
       "      <td>0.0</td>\n",
       "      <td>0.000000</td>\n",
       "      <td>0.000000</td>\n",
       "      <td>0.000000</td>\n",
       "      <td>0.000000</td>\n",
       "      <td>0.000000</td>\n",
       "      <td>0.000000</td>\n",
       "      <td>0.000000</td>\n",
       "      <td>0.000000</td>\n",
       "      <td>0.000000</td>\n",
       "      <td>0.000000</td>\n",
       "      <td>0.0</td>\n",
       "      <td>0.0</td>\n",
       "      <td>0.0</td>\n",
       "      <td>0.0</td>\n",
       "      <td>0.0</td>\n",
       "      <td>0.0</td>\n",
       "      <td>0.0</td>\n",
       "      <td>0.0</td>\n",
       "      <td>...</td>\n",
       "      <td>0.0</td>\n",
       "      <td>0.0</td>\n",
       "      <td>0.0</td>\n",
       "      <td>0.0</td>\n",
       "      <td>0.0</td>\n",
       "      <td>0.0</td>\n",
       "      <td>0.0</td>\n",
       "      <td>0.00000</td>\n",
       "      <td>0.000000</td>\n",
       "      <td>0.000000</td>\n",
       "      <td>0.000000</td>\n",
       "      <td>0.000000</td>\n",
       "      <td>0.000000</td>\n",
       "      <td>0.000000</td>\n",
       "      <td>0.000000</td>\n",
       "      <td>0.000000</td>\n",
       "      <td>0.000000</td>\n",
       "      <td>0.0</td>\n",
       "      <td>0.0</td>\n",
       "      <td>0.0</td>\n",
       "      <td>0.0</td>\n",
       "      <td>0.0</td>\n",
       "      <td>0.0</td>\n",
       "      <td>0.0</td>\n",
       "      <td>0.0</td>\n",
       "    </tr>\n",
       "  </tbody>\n",
       "</table>\n",
       "<p>5 rows × 8761 columns</p>\n",
       "</div>"
      ],
      "text/plain": [
       "  index  254208  254209  254210  254211  254212  254213    254214    254215  \\\n",
       "0    AT     0.0     0.0     0.0     0.0     0.0     0.0  0.000000  0.027972   \n",
       "1    BE     0.0     0.0     0.0     0.0     0.0     0.0  0.000000  0.000000   \n",
       "2    BG     0.0     0.0     0.0     0.0     0.0     0.0  0.035793  0.192023   \n",
       "3    CH     0.0     0.0     0.0     0.0     0.0     0.0  0.000000  0.014463   \n",
       "4    CY     0.0     0.0     0.0     0.0     0.0     0.0  0.000000  0.000000   \n",
       "\n",
       "     254216    254217    254218    254219    254220    254221    254222  \\\n",
       "0  0.113287  0.127273  0.116084  0.113287  0.109091  0.099301  0.064336   \n",
       "1  0.019710  0.232778  0.392154  0.456041  0.442448  0.302101  0.183844   \n",
       "2  0.302919  0.354551  0.382422  0.369163  0.313377  0.225553  0.065662   \n",
       "3  0.107674  0.163776  0.185244  0.186777  0.181647  0.175124  0.141796   \n",
       "4  0.000000  0.000000  0.000000  0.000000  0.000000  0.000000  0.000000   \n",
       "\n",
       "     254223  254224  254225  254226  254227  254228  254229  254230  254231  \\\n",
       "0  0.020979     0.0     0.0     0.0     0.0     0.0     0.0     0.0     0.0   \n",
       "1  0.029225     0.0     0.0     0.0     0.0     0.0     0.0     0.0     0.0   \n",
       "2  0.000000     0.0     0.0     0.0     0.0     0.0     0.0     0.0     0.0   \n",
       "3  0.053878     0.0     0.0     0.0     0.0     0.0     0.0     0.0     0.0   \n",
       "4  0.000000     0.0     0.0     0.0     0.0     0.0     0.0     0.0     0.0   \n",
       "\n",
       "   ...  262943  262944  262945  262946  262947  262948  262949   262950  \\\n",
       "0  ...     0.0     0.0     0.0     0.0     0.0     0.0     0.0  0.00000   \n",
       "1  ...     0.0     0.0     0.0     0.0     0.0     0.0     0.0  0.00000   \n",
       "2  ...     0.0     0.0     0.0     0.0     0.0     0.0     0.0  0.03475   \n",
       "3  ...     0.0     0.0     0.0     0.0     0.0     0.0     0.0  0.00000   \n",
       "4  ...     0.0     0.0     0.0     0.0     0.0     0.0     0.0  0.00000   \n",
       "\n",
       "     262951    262952    262953    262954    262955    262956    262957  \\\n",
       "0  0.040559  0.282517  0.405594  0.460140  0.474126  0.433566  0.358042   \n",
       "1  0.000000  0.045196  0.251128  0.356473  0.433952  0.459439  0.404048   \n",
       "2  0.202214  0.342270  0.452312  0.463855  0.464995  0.398385  0.297605   \n",
       "3  0.016734  0.047136  0.075455  0.116825  0.126402  0.127811  0.102086   \n",
       "4  0.000000  0.000000  0.000000  0.000000  0.000000  0.000000  0.000000   \n",
       "\n",
       "     262958    262959  262960  262961  262962  262963  262964  262965  262966  \\\n",
       "0  0.209790  0.018182     0.0     0.0     0.0     0.0     0.0     0.0     0.0   \n",
       "1  0.267779  0.075101     0.0     0.0     0.0     0.0     0.0     0.0     0.0   \n",
       "2  0.111154  0.000000     0.0     0.0     0.0     0.0     0.0     0.0     0.0   \n",
       "3  0.085494  0.058601     0.0     0.0     0.0     0.0     0.0     0.0     0.0   \n",
       "4  0.000000  0.000000     0.0     0.0     0.0     0.0     0.0     0.0     0.0   \n",
       "\n",
       "   262967  \n",
       "0     0.0  \n",
       "1     0.0  \n",
       "2     0.0  \n",
       "3     0.0  \n",
       "4     0.0  \n",
       "\n",
       "[5 rows x 8761 columns]"
      ]
     },
     "execution_count": 12,
     "metadata": {},
     "output_type": "execute_result"
    }
   ],
   "source": [
    "# create a temporary pandas df, keep one year and transpose it, \n",
    "# reset index in order to create a col with countries' names\n",
    "temp_df = df.toPandas()[-24*365:].T\n",
    "temp_df = temp_df.reset_index()\n",
    "temp_df.head()"
   ]
  },
  {
   "cell_type": "code",
   "execution_count": 13,
   "metadata": {},
   "outputs": [
    {
     "data": {
      "text/plain": [
       "(29, 8761)"
      ]
     },
     "execution_count": 13,
     "metadata": {},
     "output_type": "execute_result"
    }
   ],
   "source": [
    "# Create a Spark DataFrame from the pandas DataFrame with only 1 year\n",
    "df = spk_sess.createDataFrame(temp_df)\n",
    "del temp_df\n",
    "df.count(), len(df.columns)"
   ]
  },
  {
   "cell_type": "markdown",
   "metadata": {},
   "source": [
    "__Assemble our features__\n",
    "\n",
    "Source : https://stackoverflow.com/questions/47585723/kmeans-clustering-in-pyspark\n",
    "\n",
    "In contrast to most ML packages out there, Spark ML requires your input features to be gathered in a single column of your dataframe, usually named features; and it provides a specific method for doing this, VectorAssembler:"
   ]
  },
  {
   "cell_type": "code",
   "execution_count": 14,
   "metadata": {},
   "outputs": [
    {
     "name": "stdout",
     "output_type": "stream",
     "text": [
      "+-----+--------------------+\n",
      "|index|            features|\n",
      "+-----+--------------------+\n",
      "|   AT|(8760,[7,8,9,10,1...|\n",
      "|   BE|(8760,[8,9,10,11,...|\n",
      "|   BG|(8760,[6,7,8,9,10...|\n",
      "|   CH|(8760,[7,8,9,10,1...|\n",
      "|   CY|        (8760,[],[])|\n",
      "|   CZ|(8760,[7,8,9,10,1...|\n",
      "|   DE|(8760,[7,8,9,10,1...|\n",
      "|   DK|(8760,[8,9,10,11,...|\n",
      "|   EE|(8760,[7,8,9,10,1...|\n",
      "|   ES|(8760,[8,9,10,11,...|\n",
      "|   FI|(8760,[8,9,10,11,...|\n",
      "|   FR|(8760,[8,9,10,11,...|\n",
      "|   EL|(8760,[6,7,8,9,10...|\n",
      "|   HR|(8760,[7,8,9,10,1...|\n",
      "|   HU|(8760,[7,8,9,10,1...|\n",
      "+-----+--------------------+\n",
      "only showing top 15 rows\n",
      "\n"
     ]
    }
   ],
   "source": [
    "from pyspark.ml.feature import VectorAssembler\n",
    "\n",
    "vec_assembler = VectorAssembler(inputCols=[c for c in df.columns if c is not 'index'], outputCol=\"features\")\n",
    "df = vec_assembler.transform(df)\n",
    "df.select('index', 'features').show(15)"
   ]
  },
  {
   "cell_type": "markdown",
   "metadata": {},
   "source": [
    "As perhaps already guessed, the argument inputCols serves to tell VectoeAssembler which particular columns in our dataframe are to be used as features."
   ]
  },
  {
   "cell_type": "markdown",
   "metadata": {},
   "source": [
    "---\n",
    "\n",
    "## 2. Clustering"
   ]
  },
  {
   "cell_type": "markdown",
   "metadata": {},
   "source": [
    "__About K-Means__\n",
    "\n",
    "K-Means clustering is one of the simplest and popular unsupervised machine learning algorithms. The goal of this algorithm is to find groups in the data, with the number of groups/clusters represented by the variable K. K-Means algorithm iteratively allocates every data point to the nearest cluster based on the features. In every iteration of the algorithm, each data point is assigned to its nearest cluster based on some distance metric, which is usually Euclidean distance. The outputs of the K-means clustering algorithm are the centroids of K clusters and the labels of training data. Once the algorithm runs and identified the groups from a data set, any new data can be easily assigned to a group.\n",
    "\n",
    "K-Means algorithm can be used to identifies unknown groups in complex and unlabeled data sets.\n",
    "\n",
    "source : https://medium.com/rahasak/k-means-clustering-with-apache-spark-cab44aef0a16m"
   ]
  },
  {
   "cell_type": "markdown",
   "metadata": {},
   "source": [
    "__What's the optimal nb of clusters__\n",
    "\n",
    "The Elbow Method is one of the most popular methods to determine this optimal value of k groups into which the data may be clustered. \n",
    "To determine the optimal number of clusters, we have to select the value of k at the “elbow” ie the point after which the cost (equivalent to sklearn's inertia) start decreasing in a linear fashion. Thus for the given data, we conclude that the optimal number of clusters for the data is"
   ]
  },
  {
   "cell_type": "code",
   "execution_count": 21,
   "metadata": {},
   "outputs": [
    {
     "data": {
      "text/plain": [
       "Text(0, 0.5, 'cost')"
      ]
     },
     "execution_count": 21,
     "metadata": {},
     "output_type": "execute_result"
    },
    {
     "data": {
      "image/png": "[encoded data removed]",
      "text/plain": [
       "<Figure size 720x432 with 1 Axes>"
      ]
     },
     "metadata": {
      "needs_background": "light"
     },
     "output_type": "display_data"
    }
   ],
   "source": [
    "from pyspark.ml.clustering import KMeans\n",
    "\n",
    "max_nb_cl = 18\n",
    "\n",
    "cost = np.zeros(max_nb_cl)\n",
    "for k in range(4, max_nb_cl):\n",
    "    kmeans = KMeans().setK(k).setSeed(1).setFeaturesCol(\"features\")\n",
    "    model = kmeans.fit(df)\n",
    "    cost[k] = model.computeCost(df) / k  # requires Spark 2.0 or later\n",
    "\n",
    "    \n",
    "fig, ax = plt.subplots(1,1, figsize =(10, 6))\n",
    "ax.plot(range(2, max_nb_cl),cost[2:max_nb_cl])\n",
    "ax.set_xlabel('k')\n",
    "ax.set_ylabel('cost')"
   ]
  },
  {
   "cell_type": "markdown",
   "metadata": {},
   "source": [
    "The computerCost method will be depreciated soon, use ClusteringEvaluator instead."
   ]
  },
  {
   "cell_type": "markdown",
   "metadata": {},
   "source": [
    "__Rebuild & fit our KMeans model with the optimal value of k__"
   ]
  },
  {
   "cell_type": "markdown",
   "metadata": {},
   "source": [
    "Next we can build K-Means model by defining no of clusters, feature column and output prediction column."
   ]
  },
  {
   "cell_type": "code",
   "execution_count": 16,
   "metadata": {},
   "outputs": [],
   "source": [
    "kmeans = KMeans(k=6, seed=1)                 # 6 clusters here\n",
    "model = kmeans.fit(df.select('features'))"
   ]
  },
  {
   "cell_type": "markdown",
   "metadata": {},
   "source": [
    "select('features') here serves to tell the algorithm which column of the dataframe to use for clustering - remember that, after Step 1 above, your original lat & long features are no more directly used."
   ]
  },
  {
   "cell_type": "markdown",
   "metadata": {},
   "source": [
    "__Transform our initial dataframe to include cluster assignments__\n",
    "\n"
   ]
  },
  {
   "cell_type": "code",
   "execution_count": 17,
   "metadata": {},
   "outputs": [
    {
     "name": "stdout",
     "output_type": "stream",
     "text": [
      "+-----+--------------------+----------+\n",
      "|index|            features|prediction|\n",
      "+-----+--------------------+----------+\n",
      "|   AT|(8760,[7,8,9,10,1...|         4|\n",
      "|   BE|(8760,[8,9,10,11,...|         2|\n",
      "|   BG|(8760,[6,7,8,9,10...|         3|\n",
      "|   CH|(8760,[7,8,9,10,1...|         2|\n",
      "|   CY|        (8760,[],[])|         0|\n",
      "|   CZ|(8760,[7,8,9,10,1...|         4|\n",
      "|   DE|(8760,[7,8,9,10,1...|         2|\n",
      "|   DK|(8760,[8,9,10,11,...|         1|\n",
      "|   EE|(8760,[7,8,9,10,1...|         1|\n",
      "|   ES|(8760,[8,9,10,11,...|         5|\n",
      "|   FI|(8760,[8,9,10,11,...|         1|\n",
      "|   FR|(8760,[8,9,10,11,...|         2|\n",
      "|   EL|(8760,[6,7,8,9,10...|         3|\n",
      "|   HR|(8760,[7,8,9,10,1...|         4|\n",
      "|   HU|(8760,[7,8,9,10,1...|         4|\n",
      "+-----+--------------------+----------+\n",
      "only showing top 15 rows\n",
      "\n"
     ]
    }
   ],
   "source": [
    "transformed = model.transform(df)\n",
    "transformed.select('index', 'features', 'prediction').show(15) "
   ]
  },
  {
   "cell_type": "markdown",
   "metadata": {},
   "source": [
    "The last column of the transformed dataframe, prediction, shows the cluster assignment. I have ended up with much more records in cluster 0 see below.\n",
    "\n",
    "One can further manipulate the transformed dataframe with select statements, or even drop the features column (which has now fulfilled its function and may be no longer necessary)..."
   ]
  },
  {
   "cell_type": "code",
   "execution_count": 18,
   "metadata": {},
   "outputs": [
    {
     "name": "stdout",
     "output_type": "stream",
     "text": [
      "+----------+-----+\n",
      "|prediction|count|\n",
      "+----------+-----+\n",
      "|         0|    4|\n",
      "|         1|    6|\n",
      "|         2|    7|\n",
      "|         3|    3|\n",
      "|         4|    7|\n",
      "|         5|    2|\n",
      "+----------+-----+\n",
      "\n"
     ]
    }
   ],
   "source": [
    "# count the number of records for each distinct value\n",
    "transformed.groupBy(\"prediction\").count().orderBy(\"prediction\").show()\n",
    "\n",
    "# only unique values -> transformed.select(\"prediction\").distinct().show()"
   ]
  },
  {
   "cell_type": "markdown",
   "metadata": {},
   "source": [
    "Let's see what each cluster of countryies is made of : "
   ]
  },
  {
   "cell_type": "code",
   "execution_count": 19,
   "metadata": {},
   "outputs": [
    {
     "name": "stdout",
     "output_type": "stream",
     "text": [
      "+----------+--------------------+\n",
      "|prediction|  collect_set(index)|\n",
      "+----------+--------------------+\n",
      "|         0|    [CY, NO, UK, IE]|\n",
      "|         1|[LT, FI, DK, EE, ...|\n",
      "|         2|[BE, NL, IT, CH, ...|\n",
      "|         3|        [EL, BG, RO]|\n",
      "|         4|[PL, AT, SI, HR, ...|\n",
      "|         5|            [ES, PT]|\n",
      "+----------+--------------------+\n",
      "\n"
     ]
    }
   ],
   "source": [
    "from pyspark.sql import functions as F\n",
    "\n",
    "transformed.groupby(\"prediction\").agg(F.collect_set(\"index\")).orderBy(\"prediction\").show(30)"
   ]
  },
  {
   "cell_type": "markdown",
   "metadata": {},
   "source": [
    "__Save K-Means model__\n",
    "\n",
    "The built model can be persisted in to disk in order to use later. For an example use with spark streams application to detect the clusters of realtime uber trips."
   ]
  },
  {
   "cell_type": "code",
   "execution_count": 20,
   "metadata": {},
   "outputs": [],
   "source": [
    "# save model\n",
    "#model.save(\"kmeans_model\")\n",
    "\n",
    "# load model (if necessary)\n",
    "#model = KMeans().load(\"kmeans_model\")"
   ]
  },
  {
   "cell_type": "markdown",
   "metadata": {},
   "source": [
    "__Clusters statistics__\n",
    "\n",
    "source : https://stackoverflow.com/questions/47130299/pyspark-ml-get-kmeans-cluster-statistics/47156822#47156822\n",
    "\n",
    "another interesting ressources : https://rsandstroem.github.io/sparkkmeans.html & https://runawayhorse001.github.io/LearningApacheSpark/clustering.html\n",
    "\n",
    "(Py)Spark ML is indeed much more limited that scikit-learn or other similar packages, and such functionality is not trivial; nevertheless, the links above provide a way to get cluster statistics.\n",
    "\n",
    "réf :\n",
    "- https://databricks-prod-cloudfront.cloud.databricks.com/public/4027ec902e239c93eaaa8714f173bcfc/1101947090054953/2232878890938999/6387199866535941/latest.html\n",
    "- https://stackoverflow.com/questions/56371503/pyspark-how-to-find-appropriate-number-of-clusters"
   ]
  },
  {
   "cell_type": "code",
   "execution_count": null,
   "metadata": {},
   "outputs": [],
   "source": []
  }
 ],
 "metadata": {
  "kernelspec": {
   "display_name": "Python 3",
   "language": "python",
   "name": "python3"
  },
  "language_info": {
   "codemirror_mode": {
    "name": "ipython",
    "version": 3
   },
   "file_extension": ".py",
   "mimetype": "text/x-python",
   "name": "python",
   "nbconvert_exporter": "python",
   "pygments_lexer": "ipython3",
   "version": "3.7.3"
  }
 },
 "nbformat": 4,
 "nbformat_minor": 2
}
